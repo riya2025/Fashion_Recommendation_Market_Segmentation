{
 "cells": [
  {
   "cell_type": "markdown",
   "id": "84b4b92c",
   "metadata": {},
   "source": [
    "# Importing libraries"
   ]
  },
  {
   "cell_type": "code",
   "execution_count": 23,
   "id": "2bdd93ad",
   "metadata": {},
   "outputs": [],
   "source": [
    "import numpy as np  \n",
    "import pandas as pd \n",
    "import matplotlib.pyplot as plt"
   ]
  },
  {
   "cell_type": "markdown",
   "id": "fc6ed1dc",
   "metadata": {},
   "source": [
    "# Loading Dataset"
   ]
  },
  {
   "cell_type": "code",
   "execution_count": 12,
   "id": "d53fc764",
   "metadata": {},
   "outputs": [],
   "source": [
    "data=pd.read_csv(r\"D:\\Myntra Kurtis\\Myntra kurtis.csv\")"
   ]
  },
  {
   "cell_type": "code",
   "execution_count": 13,
   "id": "bddcda20",
   "metadata": {},
   "outputs": [
    {
     "data": {
      "text/html": [
       "<div>\n",
       "<style scoped>\n",
       "    .dataframe tbody tr th:only-of-type {\n",
       "        vertical-align: middle;\n",
       "    }\n",
       "\n",
       "    .dataframe tbody tr th {\n",
       "        vertical-align: top;\n",
       "    }\n",
       "\n",
       "    .dataframe thead th {\n",
       "        text-align: right;\n",
       "    }\n",
       "</style>\n",
       "<table border=\"1\" class=\"dataframe\">\n",
       "  <thead>\n",
       "    <tr style=\"text-align: right;\">\n",
       "      <th></th>\n",
       "      <th>Brand Name</th>\n",
       "      <th>Product URL</th>\n",
       "      <th>Image</th>\n",
       "      <th>Product Ratings</th>\n",
       "      <th>Number of ratings</th>\n",
       "      <th>Product Info</th>\n",
       "      <th>Selling Price</th>\n",
       "      <th>Price</th>\n",
       "      <th>Discount</th>\n",
       "    </tr>\n",
       "  </thead>\n",
       "  <tbody>\n",
       "    <tr>\n",
       "      <th>0</th>\n",
       "      <td>Rain &amp; Rainbow</td>\n",
       "      <td>https://www.myntra.com/kurtis/rain--rainbow/ra...</td>\n",
       "      <td>https://assets.myntassets.com/dpr_2,q_60,w_210...</td>\n",
       "      <td>4.2</td>\n",
       "      <td>28</td>\n",
       "      <td>Printed Pure Cotton Kurti</td>\n",
       "      <td>837.0</td>\n",
       "      <td>1395.0</td>\n",
       "      <td>(40% OFF)</td>\n",
       "    </tr>\n",
       "    <tr>\n",
       "      <th>1</th>\n",
       "      <td>HERE&amp;NOW</td>\n",
       "      <td>https://www.myntra.com/kurtis/herenow/herenow-...</td>\n",
       "      <td>https://assets.myntassets.com/dpr_2,q_60,w_210...</td>\n",
       "      <td>4.2</td>\n",
       "      <td>805</td>\n",
       "      <td>Embroidered Pure Cotton A-Line Kurti</td>\n",
       "      <td>719.0</td>\n",
       "      <td>1799.0</td>\n",
       "      <td>(60% OFF)</td>\n",
       "    </tr>\n",
       "    <tr>\n",
       "      <th>2</th>\n",
       "      <td>Anouk</td>\n",
       "      <td>https://www.myntra.com/kurtis/anouk/anouk-wome...</td>\n",
       "      <td>https://assets.myntassets.com/dpr_2,q_60,w_210...</td>\n",
       "      <td>4.2</td>\n",
       "      <td>2800</td>\n",
       "      <td>Printed Pure Cotton Indigo Anarkali Kurta</td>\n",
       "      <td>594.0</td>\n",
       "      <td>1699.0</td>\n",
       "      <td>(65% OFF)</td>\n",
       "    </tr>\n",
       "    <tr>\n",
       "      <th>3</th>\n",
       "      <td>Anubhutee</td>\n",
       "      <td>https://www.myntra.com/kurtis/anubhutee/anubhu...</td>\n",
       "      <td>https://assets.myntassets.com/dpr_2,q_60,w_210...</td>\n",
       "      <td>4.3</td>\n",
       "      <td>1100</td>\n",
       "      <td>Ethnic Motifs Printed Kurti</td>\n",
       "      <td>521.0</td>\n",
       "      <td>1739.0</td>\n",
       "      <td>(70% OFF)</td>\n",
       "    </tr>\n",
       "    <tr>\n",
       "      <th>4</th>\n",
       "      <td>GERUA</td>\n",
       "      <td>https://www.myntra.com/kurtis/gerua/gerua-wome...</td>\n",
       "      <td>https://assets.myntassets.com/dpr_2,q_60,w_210...</td>\n",
       "      <td>4.2</td>\n",
       "      <td>157</td>\n",
       "      <td>Ethnic Motifs Printed Kurti</td>\n",
       "      <td>449.0</td>\n",
       "      <td>1499.0</td>\n",
       "      <td>(70% OFF)</td>\n",
       "    </tr>\n",
       "    <tr>\n",
       "      <th>...</th>\n",
       "      <td>...</td>\n",
       "      <td>...</td>\n",
       "      <td>...</td>\n",
       "      <td>...</td>\n",
       "      <td>...</td>\n",
       "      <td>...</td>\n",
       "      <td>...</td>\n",
       "      <td>...</td>\n",
       "      <td>...</td>\n",
       "    </tr>\n",
       "    <tr>\n",
       "      <th>594</th>\n",
       "      <td>FAWOMENT</td>\n",
       "      <td>https://www.myntra.com/kurtis/fawoment/fawomen...</td>\n",
       "      <td>NaN</td>\n",
       "      <td>NaN</td>\n",
       "      <td>0</td>\n",
       "      <td>Floral Embroidered Kurti</td>\n",
       "      <td>911.0</td>\n",
       "      <td>3037.0</td>\n",
       "      <td>(70% OFF)</td>\n",
       "    </tr>\n",
       "    <tr>\n",
       "      <th>595</th>\n",
       "      <td>Fabindia</td>\n",
       "      <td>https://www.myntra.com/kurtis/fabindia/fabindi...</td>\n",
       "      <td>NaN</td>\n",
       "      <td>NaN</td>\n",
       "      <td>0</td>\n",
       "      <td>Yoke Design Kurti</td>\n",
       "      <td>1959.0</td>\n",
       "      <td>2799.0</td>\n",
       "      <td>(30% OFF)</td>\n",
       "    </tr>\n",
       "    <tr>\n",
       "      <th>596</th>\n",
       "      <td>all about you</td>\n",
       "      <td>https://www.myntra.com/kurtis/all-about-you/al...</td>\n",
       "      <td>NaN</td>\n",
       "      <td>NaN</td>\n",
       "      <td>0</td>\n",
       "      <td>Yoke Design A-Line Kurti</td>\n",
       "      <td>759.0</td>\n",
       "      <td>1899.0</td>\n",
       "      <td>(60% OFF)</td>\n",
       "    </tr>\n",
       "    <tr>\n",
       "      <th>597</th>\n",
       "      <td>MALHAAR</td>\n",
       "      <td>https://www.myntra.com/kurtis/malhaar/malhaar-...</td>\n",
       "      <td>NaN</td>\n",
       "      <td>4.8</td>\n",
       "      <td>6</td>\n",
       "      <td>Pure Cotton Kurti</td>\n",
       "      <td>574.0</td>\n",
       "      <td>2299.0</td>\n",
       "      <td>(75% OFF)</td>\n",
       "    </tr>\n",
       "    <tr>\n",
       "      <th>598</th>\n",
       "      <td>Pistaa</td>\n",
       "      <td>https://www.myntra.com/kurtis/pistaa/pistaa-ye...</td>\n",
       "      <td>NaN</td>\n",
       "      <td>4.4</td>\n",
       "      <td>25</td>\n",
       "      <td>Embroidered Kurti</td>\n",
       "      <td>649.0</td>\n",
       "      <td>1799.0</td>\n",
       "      <td>(Rs. 1150 OFF)</td>\n",
       "    </tr>\n",
       "  </tbody>\n",
       "</table>\n",
       "<p>599 rows × 9 columns</p>\n",
       "</div>"
      ],
      "text/plain": [
       "         Brand Name                                        Product URL  \\\n",
       "0    Rain & Rainbow  https://www.myntra.com/kurtis/rain--rainbow/ra...   \n",
       "1          HERE&NOW  https://www.myntra.com/kurtis/herenow/herenow-...   \n",
       "2             Anouk  https://www.myntra.com/kurtis/anouk/anouk-wome...   \n",
       "3         Anubhutee  https://www.myntra.com/kurtis/anubhutee/anubhu...   \n",
       "4             GERUA  https://www.myntra.com/kurtis/gerua/gerua-wome...   \n",
       "..              ...                                                ...   \n",
       "594        FAWOMENT  https://www.myntra.com/kurtis/fawoment/fawomen...   \n",
       "595        Fabindia  https://www.myntra.com/kurtis/fabindia/fabindi...   \n",
       "596   all about you  https://www.myntra.com/kurtis/all-about-you/al...   \n",
       "597         MALHAAR  https://www.myntra.com/kurtis/malhaar/malhaar-...   \n",
       "598          Pistaa  https://www.myntra.com/kurtis/pistaa/pistaa-ye...   \n",
       "\n",
       "                                                 Image  Product Ratings  \\\n",
       "0    https://assets.myntassets.com/dpr_2,q_60,w_210...              4.2   \n",
       "1    https://assets.myntassets.com/dpr_2,q_60,w_210...              4.2   \n",
       "2    https://assets.myntassets.com/dpr_2,q_60,w_210...              4.2   \n",
       "3    https://assets.myntassets.com/dpr_2,q_60,w_210...              4.3   \n",
       "4    https://assets.myntassets.com/dpr_2,q_60,w_210...              4.2   \n",
       "..                                                 ...              ...   \n",
       "594                                                NaN              NaN   \n",
       "595                                                NaN              NaN   \n",
       "596                                                NaN              NaN   \n",
       "597                                                NaN              4.8   \n",
       "598                                                NaN              4.4   \n",
       "\n",
       "     Number of ratings                               Product Info  \\\n",
       "0                   28                  Printed Pure Cotton Kurti   \n",
       "1                  805       Embroidered Pure Cotton A-Line Kurti   \n",
       "2                 2800  Printed Pure Cotton Indigo Anarkali Kurta   \n",
       "3                 1100                Ethnic Motifs Printed Kurti   \n",
       "4                  157                Ethnic Motifs Printed Kurti   \n",
       "..                 ...                                        ...   \n",
       "594                  0                   Floral Embroidered Kurti   \n",
       "595                  0                          Yoke Design Kurti   \n",
       "596                  0                   Yoke Design A-Line Kurti   \n",
       "597                  6                          Pure Cotton Kurti   \n",
       "598                 25                          Embroidered Kurti   \n",
       "\n",
       "     Selling Price   Price        Discount  \n",
       "0            837.0  1395.0       (40% OFF)  \n",
       "1            719.0  1799.0       (60% OFF)  \n",
       "2            594.0  1699.0       (65% OFF)  \n",
       "3            521.0  1739.0       (70% OFF)  \n",
       "4            449.0  1499.0       (70% OFF)  \n",
       "..             ...     ...             ...  \n",
       "594          911.0  3037.0       (70% OFF)  \n",
       "595         1959.0  2799.0       (30% OFF)  \n",
       "596          759.0  1899.0       (60% OFF)  \n",
       "597          574.0  2299.0       (75% OFF)  \n",
       "598          649.0  1799.0  (Rs. 1150 OFF)  \n",
       "\n",
       "[599 rows x 9 columns]"
      ]
     },
     "execution_count": 13,
     "metadata": {},
     "output_type": "execute_result"
    }
   ],
   "source": [
    "data"
   ]
  },
  {
   "cell_type": "code",
   "execution_count": 14,
   "id": "1dbbeaed",
   "metadata": {},
   "outputs": [
    {
     "name": "stdout",
     "output_type": "stream",
     "text": [
      "<class 'pandas.core.frame.DataFrame'>\n",
      "RangeIndex: 599 entries, 0 to 598\n",
      "Data columns (total 9 columns):\n",
      " #   Column             Non-Null Count  Dtype  \n",
      "---  ------             --------------  -----  \n",
      " 0   Brand Name         599 non-null    object \n",
      " 1   Product URL        599 non-null    object \n",
      " 2   Image              132 non-null    object \n",
      " 3   Product Ratings    401 non-null    float64\n",
      " 4   Number of ratings  599 non-null    int64  \n",
      " 5   Product Info       599 non-null    object \n",
      " 6   Selling Price      525 non-null    float64\n",
      " 7   Price              525 non-null    float64\n",
      " 8   Discount           525 non-null    object \n",
      "dtypes: float64(3), int64(1), object(5)\n",
      "memory usage: 42.2+ KB\n"
     ]
    }
   ],
   "source": [
    "data.info()"
   ]
  },
  {
   "cell_type": "code",
   "execution_count": 15,
   "id": "b612606d",
   "metadata": {
    "scrolled": true
   },
   "outputs": [
    {
     "name": "stdout",
     "output_type": "stream",
     "text": [
      "Brand Name             0\n",
      "Product URL            0\n",
      "Image                467\n",
      "Product Ratings      198\n",
      "Number of ratings      0\n",
      "Product Info           0\n",
      "Selling Price         74\n",
      "Price                 74\n",
      "Discount              74\n",
      "dtype: int64\n"
     ]
    }
   ],
   "source": [
    "print(data.isnull().sum())  "
   ]
  },
  {
   "cell_type": "markdown",
   "id": "2958b5a2",
   "metadata": {},
   "source": [
    "# Data Preprcoessing"
   ]
  },
  {
   "cell_type": "code",
   "execution_count": 16,
   "id": "7e838b52",
   "metadata": {},
   "outputs": [],
   "source": [
    "data = data.drop(\"Image\",axis=1)  "
   ]
  },
  {
   "cell_type": "code",
   "execution_count": 17,
   "id": "115edb1d",
   "metadata": {},
   "outputs": [],
   "source": [
    "data['Product Ratings'].fillna(data['Product Ratings'].mean(), inplace=True)"
   ]
  },
  {
   "cell_type": "code",
   "execution_count": 18,
   "id": "e3359b59",
   "metadata": {},
   "outputs": [],
   "source": [
    "data=data.dropna()"
   ]
  },
  {
   "cell_type": "code",
   "execution_count": 19,
   "id": "4ffce3bd",
   "metadata": {},
   "outputs": [
    {
     "name": "stdout",
     "output_type": "stream",
     "text": [
      "Brand Name           0\n",
      "Product URL          0\n",
      "Product Ratings      0\n",
      "Number of ratings    0\n",
      "Product Info         0\n",
      "Selling Price        0\n",
      "Price                0\n",
      "Discount             0\n",
      "dtype: int64\n"
     ]
    }
   ],
   "source": [
    "print(data.isnull().sum())  "
   ]
  },
  {
   "cell_type": "code",
   "execution_count": 20,
   "id": "0629be50",
   "metadata": {},
   "outputs": [
    {
     "name": "stdout",
     "output_type": "stream",
     "text": [
      "<class 'pandas.core.frame.DataFrame'>\n",
      "Int64Index: 525 entries, 0 to 598\n",
      "Data columns (total 8 columns):\n",
      " #   Column             Non-Null Count  Dtype  \n",
      "---  ------             --------------  -----  \n",
      " 0   Brand Name         525 non-null    object \n",
      " 1   Product URL        525 non-null    object \n",
      " 2   Product Ratings    525 non-null    float64\n",
      " 3   Number of ratings  525 non-null    int64  \n",
      " 4   Product Info       525 non-null    object \n",
      " 5   Selling Price      525 non-null    float64\n",
      " 6   Price              525 non-null    float64\n",
      " 7   Discount           525 non-null    object \n",
      "dtypes: float64(3), int64(1), object(4)\n",
      "memory usage: 36.9+ KB\n"
     ]
    }
   ],
   "source": [
    "data.info()"
   ]
  },
  {
   "cell_type": "code",
   "execution_count": 41,
   "id": "dab21b9b",
   "metadata": {},
   "outputs": [],
   "source": [
    "from nltk.corpus import stopwords  "
   ]
  },
  {
   "cell_type": "code",
   "execution_count": 42,
   "id": "ecae194d",
   "metadata": {},
   "outputs": [],
   "source": [
    "text = \" \".join(i for i in data[\"Brand Name\"])  "
   ]
  },
  {
   "cell_type": "markdown",
   "id": "6c9a6681",
   "metadata": {},
   "source": [
    "# Recommendation System"
   ]
  },
  {
   "cell_type": "code",
   "execution_count": 27,
   "id": "dcc74ad6",
   "metadata": {},
   "outputs": [],
   "source": [
    "Mr = data['Product Ratings'].mean()  \n",
    "m = data['Number of ratings'].quantile(0.9)  \n",
    "n = data['Number of ratings']  \n",
    "a = data['Product Ratings']  \n",
    "data[\"Score\"]  = (n/(n+m) * a) + (m/(m+n) * Mr)  "
   ]
  },
  {
   "cell_type": "code",
   "execution_count": 37,
   "id": "bb2aa6d2",
   "metadata": {},
   "outputs": [],
   "source": [
    "Recommendations = data.sort_values('Score', ascending=False)  "
   ]
  },
  {
   "cell_type": "code",
   "execution_count": 38,
   "id": "7275a6d6",
   "metadata": {},
   "outputs": [
    {
     "name": "stdout",
     "output_type": "stream",
     "text": [
      "         Brand Name                                       Product Info  \\\n",
      "48            Tissu                    Women Floral Print A-Line Kurti   \n",
      "66     YASH GALLERY                               Printed A-Line Kurti   \n",
      "11        Anubhutee                        Ethnic Motifs Printed Kurti   \n",
      "155       Anubhutee                                Women Printed Kurti   \n",
      "102          AKIMIA                      Embroidered Pure Cotton Kurti   \n",
      "18            GERUA                        Ethnic Motifs Printed Kurti   \n",
      "20   Rain & Rainbow                        Ethnic Printed Cotton Kurti   \n",
      "42   Rain & Rainbow  Women Printed Pure Cotton Pure Cotton A-Line K...   \n",
      "27        Anubhutee                       Women Printed Straight Kurti   \n",
      "121          AKIMIA        Ethnic Motifs Embroidered Pure Cotton Kurti   \n",
      "\n",
      "     Product Ratings     Score   Discount  \n",
      "48               4.4  4.359842  (45% OFF)  \n",
      "66               4.5  4.339881  (55% OFF)  \n",
      "11               4.4  4.330138  (70% OFF)  \n",
      "155              4.4  4.326697  (72% OFF)  \n",
      "102              4.5  4.315946  (52% OFF)  \n",
      "18               4.6  4.308059  (70% OFF)  \n",
      "20               4.5  4.300522  (45% OFF)  \n",
      "42               4.4  4.296386  (50% OFF)  \n",
      "27               4.3  4.284438  (70% OFF)  \n",
      "121              4.4  4.280503  (52% OFF)  \n"
     ]
    }
   ],
   "source": [
    "print(Recommendations[['Brand Name', 'Product Info',  \n",
    "                       'Product Ratings', 'Score',   \n",
    "                        'Discount']].head(10))  "
   ]
  },
  {
   "cell_type": "code",
   "execution_count": null,
   "id": "429951bd",
   "metadata": {},
   "outputs": [],
   "source": []
  }
 ],
 "metadata": {
  "kernelspec": {
   "display_name": "Python 3 (ipykernel)",
   "language": "python",
   "name": "python3"
  },
  "language_info": {
   "codemirror_mode": {
    "name": "ipython",
    "version": 3
   },
   "file_extension": ".py",
   "mimetype": "text/x-python",
   "name": "python",
   "nbconvert_exporter": "python",
   "pygments_lexer": "ipython3",
   "version": "3.7.13"
  }
 },
 "nbformat": 4,
 "nbformat_minor": 5
}
